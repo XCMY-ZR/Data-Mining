{
 "cells": [
  {
   "cell_type": "code",
   "execution_count": 1,
   "metadata": {},
   "outputs": [],
   "source": [
    "import pandas as pd\n",
    "import numpy as np"
   ]
  },
  {
   "cell_type": "code",
   "execution_count": 6,
   "metadata": {},
   "outputs": [],
   "source": [
    "data = pd.read_csv('watermelon2.csv')"
   ]
  },
  {
   "cell_type": "code",
   "execution_count": 7,
   "metadata": {},
   "outputs": [],
   "source": [
    "feature=dataset.columns.tolist()[1:]"
   ]
  },
  {
   "cell_type": "code",
   "execution_count": 8,
   "metadata": {
    "scrolled": true
   },
   "outputs": [
    {
     "data": {
      "text/html": [
       "<div>\n",
       "<style scoped>\n",
       "    .dataframe tbody tr th:only-of-type {\n",
       "        vertical-align: middle;\n",
       "    }\n",
       "\n",
       "    .dataframe tbody tr th {\n",
       "        vertical-align: top;\n",
       "    }\n",
       "\n",
       "    .dataframe thead th {\n",
       "        text-align: right;\n",
       "    }\n",
       "</style>\n",
       "<table border=\"1\" class=\"dataframe\">\n",
       "  <thead>\n",
       "    <tr style=\"text-align: right;\">\n",
       "      <th></th>\n",
       "      <th>编码</th>\n",
       "      <th>色泽</th>\n",
       "      <th>根蒂</th>\n",
       "      <th>敲声</th>\n",
       "      <th>纹理</th>\n",
       "      <th>脐部</th>\n",
       "      <th>触感</th>\n",
       "      <th>密度</th>\n",
       "      <th>含糖量</th>\n",
       "      <th>好瓜</th>\n",
       "    </tr>\n",
       "  </thead>\n",
       "  <tbody>\n",
       "    <tr>\n",
       "      <th>0</th>\n",
       "      <td>1</td>\n",
       "      <td>青绿</td>\n",
       "      <td>蜷缩</td>\n",
       "      <td>浊响</td>\n",
       "      <td>清晰</td>\n",
       "      <td>凹陷</td>\n",
       "      <td>硬滑</td>\n",
       "      <td>0.697</td>\n",
       "      <td>0.460</td>\n",
       "      <td>是</td>\n",
       "    </tr>\n",
       "    <tr>\n",
       "      <th>1</th>\n",
       "      <td>2</td>\n",
       "      <td>乌黑</td>\n",
       "      <td>蜷缩</td>\n",
       "      <td>沉闷</td>\n",
       "      <td>清晰</td>\n",
       "      <td>凹陷</td>\n",
       "      <td>硬滑</td>\n",
       "      <td>0.774</td>\n",
       "      <td>0.376</td>\n",
       "      <td>是</td>\n",
       "    </tr>\n",
       "    <tr>\n",
       "      <th>2</th>\n",
       "      <td>3</td>\n",
       "      <td>乌黑</td>\n",
       "      <td>蜷缩</td>\n",
       "      <td>浊响</td>\n",
       "      <td>清晰</td>\n",
       "      <td>凹陷</td>\n",
       "      <td>硬滑</td>\n",
       "      <td>0.634</td>\n",
       "      <td>0.264</td>\n",
       "      <td>是</td>\n",
       "    </tr>\n",
       "    <tr>\n",
       "      <th>3</th>\n",
       "      <td>4</td>\n",
       "      <td>青绿</td>\n",
       "      <td>蜷缩</td>\n",
       "      <td>沉闷</td>\n",
       "      <td>清晰</td>\n",
       "      <td>凹陷</td>\n",
       "      <td>硬滑</td>\n",
       "      <td>0.608</td>\n",
       "      <td>0.318</td>\n",
       "      <td>是</td>\n",
       "    </tr>\n",
       "    <tr>\n",
       "      <th>4</th>\n",
       "      <td>5</td>\n",
       "      <td>浅白</td>\n",
       "      <td>蜷缩</td>\n",
       "      <td>浊响</td>\n",
       "      <td>清晰</td>\n",
       "      <td>凹陷</td>\n",
       "      <td>硬滑</td>\n",
       "      <td>0.556</td>\n",
       "      <td>0.215</td>\n",
       "      <td>是</td>\n",
       "    </tr>\n",
       "    <tr>\n",
       "      <th>5</th>\n",
       "      <td>6</td>\n",
       "      <td>青绿</td>\n",
       "      <td>稍蜷</td>\n",
       "      <td>浊响</td>\n",
       "      <td>清晰</td>\n",
       "      <td>稍凹</td>\n",
       "      <td>软粘</td>\n",
       "      <td>0.403</td>\n",
       "      <td>0.237</td>\n",
       "      <td>是</td>\n",
       "    </tr>\n",
       "    <tr>\n",
       "      <th>6</th>\n",
       "      <td>7</td>\n",
       "      <td>乌黑</td>\n",
       "      <td>稍蜷</td>\n",
       "      <td>浊响</td>\n",
       "      <td>稍糊</td>\n",
       "      <td>稍凹</td>\n",
       "      <td>软粘</td>\n",
       "      <td>0.481</td>\n",
       "      <td>0.149</td>\n",
       "      <td>是</td>\n",
       "    </tr>\n",
       "    <tr>\n",
       "      <th>7</th>\n",
       "      <td>8</td>\n",
       "      <td>乌黑</td>\n",
       "      <td>稍蜷</td>\n",
       "      <td>浊响</td>\n",
       "      <td>清晰</td>\n",
       "      <td>稍凹</td>\n",
       "      <td>硬滑</td>\n",
       "      <td>0.437</td>\n",
       "      <td>0.211</td>\n",
       "      <td>是</td>\n",
       "    </tr>\n",
       "    <tr>\n",
       "      <th>8</th>\n",
       "      <td>9</td>\n",
       "      <td>乌黑</td>\n",
       "      <td>稍蜷</td>\n",
       "      <td>沉闷</td>\n",
       "      <td>稍糊</td>\n",
       "      <td>稍凹</td>\n",
       "      <td>硬滑</td>\n",
       "      <td>0.666</td>\n",
       "      <td>0.091</td>\n",
       "      <td>否</td>\n",
       "    </tr>\n",
       "    <tr>\n",
       "      <th>9</th>\n",
       "      <td>10</td>\n",
       "      <td>青绿</td>\n",
       "      <td>硬挺</td>\n",
       "      <td>清脆</td>\n",
       "      <td>清晰</td>\n",
       "      <td>平坦</td>\n",
       "      <td>软粘</td>\n",
       "      <td>0.243</td>\n",
       "      <td>0.267</td>\n",
       "      <td>否</td>\n",
       "    </tr>\n",
       "    <tr>\n",
       "      <th>10</th>\n",
       "      <td>11</td>\n",
       "      <td>浅白</td>\n",
       "      <td>硬挺</td>\n",
       "      <td>清脆</td>\n",
       "      <td>模糊</td>\n",
       "      <td>平坦</td>\n",
       "      <td>硬滑</td>\n",
       "      <td>0.245</td>\n",
       "      <td>0.057</td>\n",
       "      <td>否</td>\n",
       "    </tr>\n",
       "    <tr>\n",
       "      <th>11</th>\n",
       "      <td>12</td>\n",
       "      <td>浅白</td>\n",
       "      <td>蜷缩</td>\n",
       "      <td>浊响</td>\n",
       "      <td>模糊</td>\n",
       "      <td>平坦</td>\n",
       "      <td>软粘</td>\n",
       "      <td>0.343</td>\n",
       "      <td>0.099</td>\n",
       "      <td>否</td>\n",
       "    </tr>\n",
       "    <tr>\n",
       "      <th>12</th>\n",
       "      <td>13</td>\n",
       "      <td>青绿</td>\n",
       "      <td>稍蜷</td>\n",
       "      <td>浊响</td>\n",
       "      <td>稍糊</td>\n",
       "      <td>凹陷</td>\n",
       "      <td>硬滑</td>\n",
       "      <td>0.639</td>\n",
       "      <td>0.161</td>\n",
       "      <td>否</td>\n",
       "    </tr>\n",
       "    <tr>\n",
       "      <th>13</th>\n",
       "      <td>14</td>\n",
       "      <td>浅白</td>\n",
       "      <td>稍蜷</td>\n",
       "      <td>沉闷</td>\n",
       "      <td>稍糊</td>\n",
       "      <td>凹陷</td>\n",
       "      <td>硬滑</td>\n",
       "      <td>0.657</td>\n",
       "      <td>0.198</td>\n",
       "      <td>否</td>\n",
       "    </tr>\n",
       "    <tr>\n",
       "      <th>14</th>\n",
       "      <td>15</td>\n",
       "      <td>乌黑</td>\n",
       "      <td>稍蜷</td>\n",
       "      <td>浊响</td>\n",
       "      <td>清晰</td>\n",
       "      <td>稍凹</td>\n",
       "      <td>软粘</td>\n",
       "      <td>0.360</td>\n",
       "      <td>0.370</td>\n",
       "      <td>否</td>\n",
       "    </tr>\n",
       "    <tr>\n",
       "      <th>15</th>\n",
       "      <td>16</td>\n",
       "      <td>浅白</td>\n",
       "      <td>蜷缩</td>\n",
       "      <td>浊响</td>\n",
       "      <td>模糊</td>\n",
       "      <td>平坦</td>\n",
       "      <td>硬滑</td>\n",
       "      <td>0.593</td>\n",
       "      <td>0.042</td>\n",
       "      <td>否</td>\n",
       "    </tr>\n",
       "    <tr>\n",
       "      <th>16</th>\n",
       "      <td>17</td>\n",
       "      <td>青绿</td>\n",
       "      <td>蜷缩</td>\n",
       "      <td>沉闷</td>\n",
       "      <td>稍糊</td>\n",
       "      <td>稍凹</td>\n",
       "      <td>硬滑</td>\n",
       "      <td>0.719</td>\n",
       "      <td>0.103</td>\n",
       "      <td>否</td>\n",
       "    </tr>\n",
       "  </tbody>\n",
       "</table>\n",
       "</div>"
      ],
      "text/plain": [
       "    编码  色泽  根蒂  敲声  纹理  脐部  触感     密度    含糖量 好瓜\n",
       "0    1  青绿  蜷缩  浊响  清晰  凹陷  硬滑  0.697  0.460  是\n",
       "1    2  乌黑  蜷缩  沉闷  清晰  凹陷  硬滑  0.774  0.376  是\n",
       "2    3  乌黑  蜷缩  浊响  清晰  凹陷  硬滑  0.634  0.264  是\n",
       "3    4  青绿  蜷缩  沉闷  清晰  凹陷  硬滑  0.608  0.318  是\n",
       "4    5  浅白  蜷缩  浊响  清晰  凹陷  硬滑  0.556  0.215  是\n",
       "5    6  青绿  稍蜷  浊响  清晰  稍凹  软粘  0.403  0.237  是\n",
       "6    7  乌黑  稍蜷  浊响  稍糊  稍凹  软粘  0.481  0.149  是\n",
       "7    8  乌黑  稍蜷  浊响  清晰  稍凹  硬滑  0.437  0.211  是\n",
       "8    9  乌黑  稍蜷  沉闷  稍糊  稍凹  硬滑  0.666  0.091  否\n",
       "9   10  青绿  硬挺  清脆  清晰  平坦  软粘  0.243  0.267  否\n",
       "10  11  浅白  硬挺  清脆  模糊  平坦  硬滑  0.245  0.057  否\n",
       "11  12  浅白  蜷缩  浊响  模糊  平坦  软粘  0.343  0.099  否\n",
       "12  13  青绿  稍蜷  浊响  稍糊  凹陷  硬滑  0.639  0.161  否\n",
       "13  14  浅白  稍蜷  沉闷  稍糊  凹陷  硬滑  0.657  0.198  否\n",
       "14  15  乌黑  稍蜷  浊响  清晰  稍凹  软粘  0.360  0.370  否\n",
       "15  16  浅白  蜷缩  浊响  模糊  平坦  硬滑  0.593  0.042  否\n",
       "16  17  青绿  蜷缩  沉闷  稍糊  稍凹  硬滑  0.719  0.103  否"
      ]
     },
     "execution_count": 8,
     "metadata": {},
     "output_type": "execute_result"
    }
   ],
   "source": [
    "data"
   ]
  },
  {
   "cell_type": "code",
   "execution_count": 9,
   "metadata": {},
   "outputs": [],
   "source": [
    "data = np.array(data)\n",
    "data = np.delete(data,0,1)#删除第一列编码 "
   ]
  },
  {
   "cell_type": "markdown",
   "metadata": {},
   "source": [
    "### 信息熵\n",
    "$$H(D)=- \\sum_{i=1}^{k}(p_i\\times logp_i)$$\n",
    "$p_i$表示第i类的概率"
   ]
  },
  {
   "cell_type": "code",
   "execution_count": 10,
   "metadata": {},
   "outputs": [],
   "source": [
    "from math import log\n",
    "from collections import Counter"
   ]
  },
  {
   "cell_type": "code",
   "execution_count": 11,
   "metadata": {},
   "outputs": [],
   "source": [
    "def calShannonEnt(dataset):\n",
    "    numEntries = len(dataset)\n",
    "    labelsCount = Counter(dataset[:,-1])\n",
    "    shannonEnt = 0.0\n",
    "    for key in labelsCount:\n",
    "        prob = labelsCount[key]/numEntries\n",
    "        shannonEnt -=prob*log(prob,2)\n",
    "    return shannonEnt"
   ]
  },
  {
   "cell_type": "code",
   "execution_count": 12,
   "metadata": {},
   "outputs": [
    {
     "data": {
      "text/plain": [
       "0.9975025463691153"
      ]
     },
     "execution_count": 12,
     "metadata": {},
     "output_type": "execute_result"
    }
   ],
   "source": [
    "calShannonEnt(data)"
   ]
  },
  {
   "cell_type": "markdown",
   "metadata": {},
   "source": [
    "### 信息增益\n",
    "$$G(D,A)=H(D)-H(D|A)$$\n",
    "$$H(D|A)=-\\sum_{i=1}^{k}p_{i}H(D|A=a_j)H$$\n",
    "\n",
    "首先需要筛选出特定特征以及特定特征取值的数据集 $D|A=a_j$，再根据公式计算条件熵。"
   ]
  },
  {
   "cell_type": "code",
   "execution_count": 13,
   "metadata": {},
   "outputs": [],
   "source": [
    "#离散数据的分离\n",
    "def splitDataSet(dataSet,axis,value):\n",
    "    \"\"\"\n",
    "    需要计算H(D|A)，则需要把计算该特征的数据分离出来，这里适用于离散变量\n",
    "    :param dataset:数据集 array\n",
    "    :param axis: 特征，第几列\n",
    "    :param value: 特征所取的值\n",
    "    :return:\n",
    "    \"\"\"\n",
    "    numberset = np.where(dataSet[:,axis] == value)\n",
    "    return dataSet[numberset,][0]"
   ]
  },
  {
   "cell_type": "code",
   "execution_count": 14,
   "metadata": {},
   "outputs": [],
   "source": [
    "#计算离散数据的信息增益\n",
    "def calconEnt(dataset,axis):\n",
    "    feature = Counter(dataset[:,axis])\n",
    "    LEN = len(dataset[:,axis])\n",
    "    conEnt = 0.0\n",
    "    for key in feature:\n",
    "        spdata = splitDataSet(dataset,axis,key)\n",
    "        conEnt += float(feature[key]/LEN*calShannonEnt(spdata))\n",
    "    return conEnt"
   ]
  },
  {
   "cell_type": "code",
   "execution_count": 15,
   "metadata": {},
   "outputs": [
    {
     "data": {
      "text/plain": [
       "array([['青绿', '蜷缩', '浊响', '清晰', '凹陷', '硬滑', 0.6970000000000001, 0.46,\n",
       "        '是'],\n",
       "       ['乌黑', '蜷缩', '沉闷', '清晰', '凹陷', '硬滑', 0.774, 0.376, '是'],\n",
       "       ['乌黑', '蜷缩', '浊响', '清晰', '凹陷', '硬滑', 0.634, 0.264, '是'],\n",
       "       ['青绿', '蜷缩', '沉闷', '清晰', '凹陷', '硬滑', 0.608, 0.318, '是'],\n",
       "       ['浅白', '蜷缩', '浊响', '清晰', '凹陷', '硬滑', 0.556, 0.215, '是'],\n",
       "       ['青绿', '稍蜷', '浊响', '清晰', '稍凹', '软粘', 0.40299999999999997, 0.237,\n",
       "        '是'],\n",
       "       ['乌黑', '稍蜷', '浊响', '清晰', '稍凹', '硬滑', 0.43700000000000006,\n",
       "        0.21100000000000002, '是'],\n",
       "       ['青绿', '硬挺', '清脆', '清晰', '平坦', '软粘', 0.243, 0.267, '否'],\n",
       "       ['乌黑', '稍蜷', '浊响', '清晰', '稍凹', '软粘', 0.36, 0.37, '否']],\n",
       "      dtype=object)"
      ]
     },
     "execution_count": 15,
     "metadata": {},
     "output_type": "execute_result"
    }
   ],
   "source": [
    "#调用 第三列数据中取值为 清晰 的数据\n",
    "splitDataSet(data,3,'清晰')"
   ]
  },
  {
   "cell_type": "markdown",
   "metadata": {},
   "source": [
    "### 连续数据\n",
    "\n",
    "​ 选择合适的划分点，将数据进行二分（最简单）\n",
    "\n",
    "​ 最优划分点的选取：\n",
    "\n",
    "​（1）给定数据集D和连续特征A，假设A上有n个不同取值,从小到大排序得{a1,a2,…,an}。\n",
    "\n",
    "​（2）令 t=(ai+ai+1)/2 ,则可以得到划分 <=ai以及 >=ai+1 的数据集\n",
    "\n",
    "（3）生成n-1个候选集\n",
    "\n",
    "（4）根据信息增益最大选出最优划分点"
   ]
  },
  {
   "cell_type": "code",
   "execution_count": 16,
   "metadata": {},
   "outputs": [],
   "source": [
    "#连续数据的分离\n",
    "def splitContinuousDataSet(dataSet,axis,value,direction=0):\n",
    "    \"\"\"\n",
    "    采用二分法对连续变量进行划分,\n",
    "    :param dataSet: 数据集 array\n",
    "    :param axis:\n",
    "    :param value:根据value划分为两部分\n",
    "    :param direction:0-1取值，0表示<value 的数据； 1表示>=value的数据\n",
    "    :return:\n",
    "    \"\"\"\n",
    "    if direction==0:\n",
    "        numberset = np.where(dataSet[:, axis] < value)\n",
    "    else:\n",
    "        numberset = np.where(dataSet[:, axis] >= value)\n",
    "    return dataSet[numberset,][0]"
   ]
  },
  {
   "cell_type": "code",
   "execution_count": 17,
   "metadata": {},
   "outputs": [],
   "source": [
    "def bestSplitforCondata(dataSet,axis):\n",
    "    sorteddata = sorted(dataSet[:, axis]) #对该特征取值进行排序\n",
    "    #生成候选集\n",
    "    splitPoint = [(sorteddata[i] + sorteddata[i + 1]) / 2 for i in range(len(sorteddata) - 1)]\n",
    "    LEN = len(dataSet[:,axis])\n",
    "    bestsplitInfoGain = float('-inf')\n",
    "    bestsplitevalue = float('-inf')\n",
    "    Ent = calShannonEnt(dataSet)\n",
    "    for value in splitPoint:\n",
    "        conEnt = 0.0\n",
    "        for i in range(2):\n",
    "            spdata = splitContinuousDataSet(dataSet, axis, value, direction=i)\n",
    "            Len = len(spdata[:,axis])\n",
    "            conEnt += float(Len/LEN) * calShannonEnt(spdata)\n",
    "        InfoEnt = Ent - conEnt\n",
    "        if InfoEnt > bestsplitInfoGain:\n",
    "            bestsplitInfoGain = InfoEnt\n",
    "            bestsplitevalue = value\n",
    "    return bestsplitInfoGain,bestsplitevalue"
   ]
  },
  {
   "cell_type": "code",
   "execution_count": 18,
   "metadata": {},
   "outputs": [
    {
     "name": "stdout",
     "output_type": "stream",
     "text": [
      "(0.2624392604045631, 0.38149999999999995)\n"
     ]
    },
    {
     "data": {
      "text/plain": [
       "(0.34929372233065203, 0.126)"
      ]
     },
     "execution_count": 18,
     "metadata": {},
     "output_type": "execute_result"
    }
   ],
   "source": [
    "splitContinuousDataSet(data,6,0.7,direction=1)\n",
    "print(bestSplitforCondata(data,6))\n",
    "\n",
    "bestSplitforCondata(data,7)\n"
   ]
  },
  {
   "cell_type": "markdown",
   "metadata": {},
   "source": [
    "### 选择最优划分特征"
   ]
  },
  {
   "cell_type": "code",
   "execution_count": 19,
   "metadata": {},
   "outputs": [],
   "source": [
    "def chooseBestFeaturetoSplit(dataSet,Method = 'ID3'):\n",
    "    \"\"\"\n",
    "    需要考虑连续型变量和离散性变量\n",
    "    :param dataSet:\n",
    "    :param Method:\n",
    "    :return:\n",
    "    \"\"\"\n",
    "    numFeatures = np.shape(dataSet)[1] - 1\n",
    "    bestEnt = calShannonEnt(dataSet)\n",
    "    bestInfoGain = 0.0\n",
    "    bestFeature = None\n",
    "    bestsplitevalue = None\n",
    "    for i in range(numFeatures):\n",
    "        if isinstance(dataSet[0,i],float): #判断是否是连续型变量\n",
    "            infoGain,splitevalue = bestSplitforCondata(dataSet,i)\n",
    "        else:\n",
    "            infoGain = bestEnt - calconEnt(dataSet, i)\n",
    "            splitevalue = None\n",
    "        if infoGain > bestInfoGain:\n",
    "            bestInfoGain = infoGain\n",
    "            bestFeature = i\n",
    "            bestsplitevalue = splitevalue\n",
    "    return bestFeature,bestInfoGain,bestsplitevalue"
   ]
  },
  {
   "cell_type": "code",
   "execution_count": 20,
   "metadata": {},
   "outputs": [
    {
     "data": {
      "text/plain": [
       "(3, 0.3805918973682686, None)"
      ]
     },
     "execution_count": 20,
     "metadata": {},
     "output_type": "execute_result"
    }
   ],
   "source": [
    "chooseBestFeaturetoSplit(data)"
   ]
  },
  {
   "cell_type": "markdown",
   "metadata": {},
   "source": [
    "### 每个节点根据投票法确定类"
   ]
  },
  {
   "cell_type": "code",
   "execution_count": 21,
   "metadata": {},
   "outputs": [],
   "source": [
    "def majorityCnt( dataSet ):\n",
    "    labelsCount = Counter(dataSet[:, -1])\n",
    "    LEN = len(dataSet[:,-1])\n",
    "    label = labelsCount.most_common(1)[0][0]\n",
    "    prob = round(labelsCount[label]/LEN,3)\n",
    "    return label,prob"
   ]
  },
  {
   "cell_type": "code",
   "execution_count": 22,
   "metadata": {},
   "outputs": [
    {
     "data": {
      "text/plain": [
       "('否', 0.529)"
      ]
     },
     "execution_count": 22,
     "metadata": {},
     "output_type": "execute_result"
    }
   ],
   "source": [
    "majorityCnt( data )"
   ]
  },
  {
   "cell_type": "markdown",
   "metadata": {},
   "source": [
    "### 构造决策树类"
   ]
  },
  {
   "cell_type": "code",
   "execution_count": 23,
   "metadata": {},
   "outputs": [],
   "source": [
    "class decisiontree:\n",
    "    def __init__(self,label,prob,axis = None,value =None,*node):\n",
    "        self.label = label #该节点的类的标记\n",
    "        self.prob = prob #该节点为该类的概率\n",
    "        self.axis = axis #该节点采用哪个特征继续划分\n",
    "        self.value = value #离散：特征的取值   连续：0-1 "
   ]
  },
  {
   "cell_type": "markdown",
   "metadata": {},
   "source": [
    "### 生成树"
   ]
  },
  {
   "cell_type": "code",
   "execution_count": 24,
   "metadata": {},
   "outputs": [],
   "source": [
    "def createTree(dataSet,e=0.001,num=2):\n",
    "    \"\"\"\n",
    "    :param dataSet: 数据集 array\n",
    "    :param e: 阈值，信息增益小于该阈值则停止\n",
    "    :param num: 阈值，数据集中数目小于该数目则停止\n",
    "    :return:返回树\n",
    "    \"\"\"\n",
    "    label, prob = majorityCnt(dataSet)\n",
    "    number = len(dataSet)\n",
    "    tree = decisiontree(label, prob)\n",
    "    axis, Gain,splitevalue = chooseBestFeaturetoSplit(dataSet)\n",
    "    tree.axis = axis\n",
    "    node = []\n",
    "    if Gain < e:\n",
    "        return tree\n",
    "    elif number <= num:\n",
    "        return tree\n",
    "    else:\n",
    "        if splitevalue == None:  #判断是否是连续型变量\n",
    "            for value in set(dataSet[:, axis]):\n",
    "                newset = splitDataSet(dataSet, axis, value)\n",
    "                newtree = createTree(newset)\n",
    "                newtree.value = value\n",
    "                newtree.splitevalue = splitevalue\n",
    "                node.append(newtree)\n",
    "            tree.node = node\n",
    "        else:\n",
    "            for i in range(2):\n",
    "                newset = splitContinuousDataSet(dataSet, axis, splitevalue, direction=i)\n",
    "                newtree = createTree(newset)\n",
    "                newtree.value = i\n",
    "                newtree.splitevalue = splitevalue\n",
    "                node.append(newtree)\n",
    "            tree.node = node\n",
    "    return tree"
   ]
  },
  {
   "cell_type": "markdown",
   "metadata": {},
   "source": [
    "###  搜索决策树"
   ]
  },
  {
   "cell_type": "code",
   "execution_count": 25,
   "metadata": {},
   "outputs": [],
   "source": [
    "def FinLabel(tree,sample):\n",
    "    if not hasattr(tree,'node'):\n",
    "        label,prob = tree.label , tree.prob\n",
    "        return label,prob\n",
    "    LEN = len(tree.node)\n",
    "    axis = tree.axis\n",
    "    num = -1\n",
    "    for i in range(LEN):\n",
    "        if tree.node[i].splitevalue == None:\n",
    "            if sample[axis] == tree.node[i].value:\n",
    "                num = i\n",
    "            break\n",
    "        else:\n",
    "            if sample[axis] < tree.node[i].splitevalue and tree.node[i].value == 0:\n",
    "                num = i\n",
    "            if sample[axis] >= tree.node[i].splitevalue and tree.node[i].value == 1:\n",
    "                num = i\n",
    "            break\n",
    "    label, prob = FinLabel(tree.node[num],sample)\n",
    "    return label,prob"
   ]
  },
  {
   "cell_type": "code",
   "execution_count": 26,
   "metadata": {},
   "outputs": [],
   "source": [
    "mytree = createTree(data)"
   ]
  },
  {
   "cell_type": "code",
   "execution_count": 45,
   "metadata": {},
   "outputs": [
    {
     "data": {
      "text/plain": [
       "['色泽', '根蒂', '敲声', '纹理', '脐部', '触感', '密度', '含糖量', '好瓜']"
      ]
     },
     "execution_count": 45,
     "metadata": {},
     "output_type": "execute_result"
    }
   ],
   "source": [
    "feature"
   ]
  },
  {
   "cell_type": "code",
   "execution_count": 27,
   "metadata": {},
   "outputs": [
    {
     "data": {
      "text/plain": [
       "{'axis': 3,\n",
       " 'label': '否',\n",
       " 'node': [<__main__.decisiontree at 0x1ddd2cc7198>,\n",
       "  <__main__.decisiontree at 0x1ddd2ccf320>,\n",
       "  <__main__.decisiontree at 0x1ddd2ccf748>],\n",
       " 'prob': 0.529,\n",
       " 'value': None}"
      ]
     },
     "execution_count": 27,
     "metadata": {},
     "output_type": "execute_result"
    }
   ],
   "source": [
    "vars(mytree)"
   ]
  },
  {
   "cell_type": "code",
   "execution_count": 41,
   "metadata": {},
   "outputs": [
    {
     "name": "stdout",
     "output_type": "stream",
     "text": [
      "{'label': '否', 'prob': 1.0, 'axis': None, 'value': '模糊', 'splitevalue': None}\n",
      "{'label': '是', 'prob': 0.778, 'axis': 6, 'value': '清晰', 'node': [<__main__.decisiontree object at 0x000001DDD2CCF978>, <__main__.decisiontree object at 0x000001DDD2CCF780>], 'splitevalue': None}\n",
      "{'label': '否', 'prob': 0.8, 'axis': 5, 'value': '稍糊', 'node': [<__main__.decisiontree object at 0x000001DDD2CCF940>, <__main__.decisiontree object at 0x000001DDD2CCFA58>], 'splitevalue': None}\n"
     ]
    }
   ],
   "source": [
    "print(vars(mytree.node[0]))\n",
    "print(vars(mytree.node[1]))\n",
    "print(vars(mytree.node[2]))"
   ]
  },
  {
   "cell_type": "code",
   "execution_count": 42,
   "metadata": {},
   "outputs": [
    {
     "name": "stdout",
     "output_type": "stream",
     "text": [
      "{'label': '否', 'prob': 1.0, 'axis': None, 'value': 0, 'splitevalue': 0.38149999999999995}\n",
      "{'label': '是', 'prob': 1.0, 'axis': None, 'value': 1, 'splitevalue': 0.38149999999999995}\n",
      "{'label': '是', 'prob': 1.0, 'axis': None, 'value': '软粘', 'splitevalue': None}\n",
      "{'label': '否', 'prob': 1.0, 'axis': None, 'value': '硬滑', 'splitevalue': None}\n"
     ]
    }
   ],
   "source": [
    "print(vars(mytree.node[1].node[0]))\n",
    "print(vars(mytree.node[1].node[1]))\n",
    "print(vars(mytree.node[2].node[0]))\n",
    "print(vars(mytree.node[2].node[1]))"
   ]
  },
  {
   "cell_type": "code",
   "execution_count": 28,
   "metadata": {},
   "outputs": [
    {
     "data": {
      "text/plain": [
       "('是', 1.0)"
      ]
     },
     "execution_count": 28,
     "metadata": {},
     "output_type": "execute_result"
    }
   ],
   "source": [
    "sample = np.delete(data[0],-1,0)\n",
    "FinLabel(mytree,sample)  #进行预测\n",
    "('是', 1.0)"
   ]
  },
  {
   "cell_type": "code",
   "execution_count": null,
   "metadata": {},
   "outputs": [],
   "source": []
  }
 ],
 "metadata": {
  "kernelspec": {
   "display_name": "Python 3",
   "language": "python",
   "name": "python3"
  },
  "language_info": {
   "codemirror_mode": {
    "name": "ipython",
    "version": 3
   },
   "file_extension": ".py",
   "mimetype": "text/x-python",
   "name": "python",
   "nbconvert_exporter": "python",
   "pygments_lexer": "ipython3",
   "version": "3.6.5"
  }
 },
 "nbformat": 4,
 "nbformat_minor": 2
}
