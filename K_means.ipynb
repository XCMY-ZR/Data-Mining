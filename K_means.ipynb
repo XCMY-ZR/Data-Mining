{
 "cells": [
  {
   "cell_type": "code",
   "execution_count": 1,
   "metadata": {},
   "outputs": [],
   "source": [
    "import numpy as np\n",
    "import pandas as pd"
   ]
  },
  {
   "cell_type": "markdown",
   "metadata": {},
   "source": [
    "### 加载数据集"
   ]
  },
  {
   "cell_type": "code",
   "execution_count": 2,
   "metadata": {},
   "outputs": [],
   "source": [
    "def loadDataset(file):\n",
    "    df = pd.read_csv(file,sep='\\t',header=0,dtype=str,na_filter=False)\n",
    "    return np.array(df).astype(np.float)"
   ]
  },
  {
   "cell_type": "markdown",
   "metadata": {},
   "source": [
    "### Kmeans算法实现细节"
   ]
  },
  {
   "cell_type": "code",
   "execution_count": 3,
   "metadata": {},
   "outputs": [],
   "source": [
    "class KMeansCluster():\n",
    "    def __init__(self,k=3,initCent='random',max_iter=500):\n",
    "        self._k = k\n",
    "        self._initCent = initCent\n",
    "        self._max_iter = max_iter\n",
    "        self._clusterAssment = None\n",
    "        self._labels = None\n",
    "    #计算欧式距离  \n",
    "    def _calEDist(self,arrA,arrB):\n",
    "        return np.math.sqrt(sum(np.power(arrA - arrB, 2)))\n",
    "    #随机选择K个中心点\n",
    "    def _randCent(self,data_X,k):\n",
    "        n = data_X.shape[1]\n",
    "        centroids = np.empty((k,n))\n",
    "        for j in range(n):\n",
    "            minJ = min(data_X[:,j])\n",
    "            rangeJ = float(max(data_X[:,j]-minJ))\n",
    "            centroids[:,j] = (minJ+rangeJ*np.random.rand(k,1)).flatten()\n",
    "        return centroids\n",
    "    #更新聚类中心点直到收敛\n",
    "    def fit(self,data_X):\n",
    "        if not isinstance(data_X,np.ndarray) or isinstance(data_X,np.matrixlib.defmatrix.matrix):\n",
    "            try:\n",
    "                data_X = np.asarray(data_X)\n",
    "            except:\n",
    "                raise TypeError('numpy.darray resuird for data_X')\n",
    "        m = data_X.shape[0]\n",
    "        #一个m*2的二维矩阵，矩阵第一列存储样本点所属的族的索引值，\n",
    "        #第二列存储该点与所属族的质心的平方差\n",
    "        self._clusterAssment = np.zeros((m,2))\n",
    "        \n",
    "        if self._initCent == 'random':\n",
    "            self._centroids = self._randCent(data_X,self._k)\n",
    "        \n",
    "        clusterChanged = True\n",
    "        for _ in range(self._max_iter):\n",
    "            clusterChanged = False\n",
    "            for i in range(m):#将每个样本点分配到离它最近的质心所属的族\n",
    "                minDist = np.inf #首先将其置为无穷大的数\n",
    "                minIndex = -1 #将最近的质心点下标置为-1\n",
    "                for j in range(self._k):\n",
    "                    arrA = self._centroids[j,:]\n",
    "                    arrB = data_X[i,:]\n",
    "                    distJI = self._calEDist(arrA,arrB)\n",
    "                    if distJI<minDist:\n",
    "                        minDist = distJI\n",
    "                        minIndex = j\n",
    "                if self._clusterAssment[i,0]!=minIndex or self._clusterAssment[i,1]>minDist**2:\n",
    "                    clusterChanged = True \n",
    "                    self._clusterAssment[i,:]=minIndex,minDist**2\n",
    "            if not clusterChanged:\n",
    "                break\n",
    "            for i in range(self._k):\n",
    "                index_all = self._clusterAssment[:,0]\n",
    "                value = np.nonzero(index_all == i)\n",
    "                ptsInClust = data_X[value[0]]\n",
    "                self._centroids[i,:]=np.mean(ptsInClust,axis=0)\n",
    "        self._labels =self._clusterAssment[:,0]"
   ]
  },
  {
   "cell_type": "code",
   "execution_count": 4,
   "metadata": {},
   "outputs": [],
   "source": [
    "data_X = loadDataset(r'data.txt')"
   ]
  },
  {
   "cell_type": "code",
   "execution_count": 5,
   "metadata": {},
   "outputs": [],
   "source": [
    "k=4\n",
    "clf = KMeansCluster(k)\n",
    "clf.fit(data_X)"
   ]
  },
  {
   "cell_type": "markdown",
   "metadata": {},
   "source": [
    "### 结果可视化"
   ]
  },
  {
   "cell_type": "code",
   "execution_count": 6,
   "metadata": {},
   "outputs": [],
   "source": [
    "import matplotlib.pyplot as plt"
   ]
  },
  {
   "cell_type": "code",
   "execution_count": 7,
   "metadata": {},
   "outputs": [],
   "source": [
    "cents = clf._centroids\n",
    "labels = clf._labels\n",
    "colors = ['b','g','r','k','c','m','y','#e24fff','#524c90','#845868']"
   ]
  },
  {
   "cell_type": "code",
   "execution_count": 35,
   "metadata": {},
   "outputs": [
    {
     "data": {
      "image/png": "[encoded data removed]",
      "text/plain": [
       "<Figure size 432x288 with 1 Axes>"
      ]
     },
     "metadata": {},
     "output_type": "display_data"
    },
    {
     "data": {
      "image/png": "[encoded data removed]",
      "text/plain": [
       "<Figure size 432x288 with 1 Axes>"
      ]
     },
     "metadata": {},
     "output_type": "display_data"
    },
    {
     "data": {
      "image/png": "[encoded data removed]",
      "text/plain": [
       "<Figure size 432x288 with 1 Axes>"
      ]
     },
     "metadata": {},
     "output_type": "display_data"
    },
    {
     "data": {
      "image/png": "[encoded data removed]",
      "text/plain": [
       "<Figure size 432x288 with 1 Axes>"
      ]
     },
     "metadata": {},
     "output_type": "display_data"
    }
   ],
   "source": [
    "for i in range(k):\n",
    "    index = np.nonzero(labels == i)[0]\n",
    "    x0 = data_X[index,0]\n",
    "    x1 = data_X[index,1]\n",
    "    y_i = i\n",
    "    for j in range(len(x0)):\n",
    "        plt.title('cluster{}'.format(i+1))\n",
    "        plt.text(x0[j],x1[j],str(y_i),color = colors[i],fontdict={'weight':'bold','size':6})\n",
    "        plt.scatter(cents[i,0],cents[i,1],marker='x',color=colors[i],linewidths=7)\n",
    "        plt.axis([-7,7,-7,7])\n",
    "    plt.show()"
   ]
  },
  {
   "cell_type": "code",
   "execution_count": 36,
   "metadata": {},
   "outputs": [
    {
     "data": {
      "image/png": "[encoded data removed]",
      "text/plain": [
       "<Figure size 432x288 with 1 Axes>"
      ]
     },
     "metadata": {},
     "output_type": "display_data"
    }
   ],
   "source": [
    "for i in range(k):\n",
    "    index = np.nonzero(labels == i)[0]\n",
    "    x0 = data_X[index,0]\n",
    "    x1 = data_X[index,1]\n",
    "    y_i = i\n",
    "    for j in range(len(x0)):\n",
    "        plt.title('cluster{}'.format(i+1))\n",
    "        plt.text(x0[j],x1[j],str(y_i),color = colors[i],fontdict={'weight':'bold','size':6})\n",
    "        plt.scatter(cents[i,0],cents[i,1],marker='x',color=colors[i],linewidths=7)\n",
    "        plt.axis([-7,7,-7,7])\n",
    "plt.show()"
   ]
  },
  {
   "cell_type": "code",
   "execution_count": 8,
   "metadata": {},
   "outputs": [
    {
     "data": {
      "image/png": "[encoded data removed]",
      "text/plain": [
       "<Figure size 432x288 with 1 Axes>"
      ]
     },
     "metadata": {},
     "output_type": "display_data"
    }
   ],
   "source": [
    "for i in range(k):\n",
    "    index = np.nonzero(labels == i)[0]\n",
    "    x0 = data_X[index,0]\n",
    "    x1 = data_X[index,1]\n",
    "    y_i = i\n",
    "    for j in range(len(x0)):\n",
    "        plt.title('cluster{}'.format(i+1))\n",
    "        plt.text(x0[j],x1[j],str(y_i),color = colors[i],fontdict={'weight':'bold','size':6})\n",
    "        plt.scatter(cents[i,0],cents[i,1],marker='x',color=colors[i],linewidths=7)\n",
    "        plt.axis([-7,7,-7,7])\n",
    "plt.show()"
   ]
  },
  {
   "cell_type": "code",
   "execution_count": null,
   "metadata": {},
   "outputs": [],
   "source": []
  }
 ],
 "metadata": {
  "kernelspec": {
   "display_name": "Python 3",
   "language": "python",
   "name": "python3"
  },
  "language_info": {
   "codemirror_mode": {
    "name": "ipython",
    "version": 3
   },
   "file_extension": ".py",
   "mimetype": "text/x-python",
   "name": "python",
   "nbconvert_exporter": "python",
   "pygments_lexer": "ipython3",
   "version": "3.6.4"
  }
 },
 "nbformat": 4,
 "nbformat_minor": 2
}
